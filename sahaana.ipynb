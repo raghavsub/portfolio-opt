{
 "cells": [
  {
   "cell_type": "code",
   "execution_count": 2,
   "metadata": {
    "collapsed": false
   },
   "outputs": [],
   "source": [
    "import numpy as np\n",
    "from scipy.io import loadmat\n",
    "import matplotlib.pyplot as plt"
   ]
  },
  {
   "cell_type": "markdown",
   "metadata": {},
   "source": [
    "Load data"
   ]
  },
  {
   "cell_type": "code",
   "execution_count": 4,
   "metadata": {
    "collapsed": false
   },
   "outputs": [],
   "source": [
    "data = loadmat('portfolio.mat')\n",
    "volume = data['train_vol']\n",
    "high = data['train_hi']\n",
    "low = data['train_lo']\n",
    "close = data['train_cl']"
   ]
  },
  {
   "cell_type": "code",
   "execution_count": 8,
   "metadata": {
    "collapsed": false
   },
   "outputs": [
    {
     "name": "stdout",
     "output_type": "stream",
     "text": [
      "['train_vol', 'train_stocks', '__header__', '__globals__', 'train_op', 'train_lo', 'train_cl', '__version__', 'train_hi']\n"
     ]
    }
   ],
   "source": [
    "print data.keys()"
   ]
  },
  {
   "cell_type": "code",
   "execution_count": 10,
   "metadata": {
    "collapsed": false
   },
   "outputs": [
    {
     "data": {
      "text/plain": [
       "array([[  36.1 ,   32.58,   70.79, ...,   23.78,   74.9 ,   62.14],\n",
       "       [  36.15,   32.16,   67.85, ...,   23.55,   73.61,   62.62],\n",
       "       [  35.11,   29.68,   67.37, ...,   23.77,   73.66,   61.96],\n",
       "       ..., \n",
       "       [  46.6 ,   16.05,  333.1 , ...,   49.44,   24.49,   61.34],\n",
       "       [  47.37,   16.59,  343.51, ...,   50.38,   24.05,   62.59],\n",
       "       [  48.82,   16.42,  355.  , ...,   53.62,   23.52,   61.69]])"
      ]
     },
     "execution_count": 10,
     "metadata": {},
     "output_type": "execute_result"
    }
   ],
   "source": [
    "data['train_op']"
   ]
  },
  {
   "cell_type": "code",
   "execution_count": null,
   "metadata": {
    "collapsed": true
   },
   "outputs": [],
   "source": []
  }
 ],
 "metadata": {
  "kernelspec": {
   "display_name": "Python 2",
   "language": "python",
   "name": "python2"
  },
  "language_info": {
   "codemirror_mode": {
    "name": "ipython",
    "version": 2
   },
   "file_extension": ".py",
   "mimetype": "text/x-python",
   "name": "python",
   "nbconvert_exporter": "python",
   "pygments_lexer": "ipython2",
   "version": "2.7.9"
  }
 },
 "nbformat": 4,
 "nbformat_minor": 0
}
