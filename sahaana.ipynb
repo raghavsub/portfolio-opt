{
 "cells": [
  {
   "cell_type": "markdown",
   "metadata": {},
   "source": [
    "Imports"
   ]
  },
  {
   "cell_type": "code",
   "execution_count": 28,
   "metadata": {
    "collapsed": false
   },
   "outputs": [],
   "source": [
    "import numpy as np\n",
    "from scipy.io import loadmat\n",
    "import matplotlib.pyplot as plt\n",
    "\n",
    "from operator import itemgetter"
   ]
  },
  {
   "cell_type": "markdown",
   "metadata": {},
   "source": [
    "Util Functions"
   ]
  },
  {
   "cell_type": "code",
   "execution_count": 29,
   "metadata": {
    "collapsed": true
   },
   "outputs": [],
   "source": [
    "def sample_data(getter, original_data, data_keys):\n",
    "    sampled_data = {}\n",
    "    for key in data_keys:\n",
    "        sampled_data[key] = np.array(getter(original_data[key]))\n",
    "    return sampled_data"
   ]
  },
  {
   "cell_type": "markdown",
   "metadata": {},
   "source": [
    "Load data & transform to data matrices that are of dim num_stock X "
   ]
  },
  {
   "cell_type": "code",
   "execution_count": 39,
   "metadata": {
    "collapsed": false
   },
   "outputs": [],
   "source": [
    "data = loadmat('portfolio.mat')\n",
    "keys = ['hi', 'lo', 'open', 'close', 'vol', 'stocks']\n",
    "\n",
    "all_data = {}\n",
    "all_data['hi'] = data['train_hi'].T\n",
    "all_data['lo'] = data['train_lo'].T\n",
    "all_data['open'] = data['train_op'].T\n",
    "all_data['close'] = data['train_cl'].T\n",
    "all_data['vol'] = data['train_vol'].T\n",
    "all_data['stocks'] = np.array([entry[0] for entry in data['train_stocks'][0]])\n",
    "NUM_STOCKS = all_data['stocks'].shape[0]"
   ]
  },
  {
   "cell_type": "markdown",
   "metadata": {},
   "source": [
    "Set amt of data you want for training, testing, and hold out. Right now, we are partitioning the set of stocks"
   ]
  },
  {
   "cell_type": "code",
   "execution_count": 31,
   "metadata": {
    "collapsed": false
   },
   "outputs": [],
   "source": [
    "NUM_TRAIN = 300\n",
    "NUM_VALIDATION = 100\n",
    "NUM_TEST = NUM_STOCKS - NUM_TRAIN - NUM_VALIDATION\n"
   ]
  },
  {
   "cell_type": "markdown",
   "metadata": {},
   "source": [
    "Pull out your training, testing and validation sets"
   ]
  },
  {
   "cell_type": "code",
   "execution_count": 32,
   "metadata": {
    "collapsed": false
   },
   "outputs": [],
   "source": [
    "permuted_stocks = np.random.permutation(NUM_STOCKS)\n",
    "get_train = itemgetter(*permuted_stocks[:NUM_TRAIN])\n",
    "get_validation = itemgetter(*permuted_stocks[NUM_TRAIN:NUM_TRAIN+NUM_VALIDATION])\n",
    "get_test = itemgetter(*permuted_stocks[NUM_TRAIN+NUM_VALIDATION:NUM_STOCKS])\n",
    "\n",
    "train_data = sample_data(get_train, all_data, keys)\n",
    "validation_data = sample_data(get_validation, all_data, keys)\n",
    "test_data = sample_data(get_test, all_data, keys)"
   ]
  }
 ],
 "metadata": {
  "kernelspec": {
   "display_name": "Python 2",
   "language": "python",
   "name": "python2"
  },
  "language_info": {
   "codemirror_mode": {
    "name": "ipython",
    "version": 2
   },
   "file_extension": ".py",
   "mimetype": "text/x-python",
   "name": "python",
   "nbconvert_exporter": "python",
   "pygments_lexer": "ipython2",
   "version": "2.7.9"
  }
 },
 "nbformat": 4,
 "nbformat_minor": 0
}
