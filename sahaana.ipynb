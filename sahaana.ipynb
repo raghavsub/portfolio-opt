{
 "cells": [
  {
   "cell_type": "markdown",
   "metadata": {},
   "source": [
    "#### Imports"
   ]
  },
  {
   "cell_type": "code",
   "execution_count": 1,
   "metadata": {
    "collapsed": false
   },
   "outputs": [],
   "source": [
    "import numpy as np\n",
    "from scipy.io import loadmat\n",
    "import matplotlib.pyplot as plt\n",
    "\n",
    "from operator import itemgetter"
   ]
  },
  {
   "cell_type": "markdown",
   "metadata": {},
   "source": [
    "#### Util Functions"
   ]
  },
  {
   "cell_type": "code",
   "execution_count": 2,
   "metadata": {
    "collapsed": false
   },
   "outputs": [],
   "source": [
    "def sample_data(getter, original_data, data_keys):\n",
    "    sampled_data = {}\n",
    "    for key in data_keys:\n",
    "        sampled_data[key] = np.array(getter(original_data[key]))\n",
    "    return sampled_data\n",
    "\n",
    "def sharpe_ratio(portfolio, values):\n",
    "    \"\"\"\n",
    "    Not real Sharpe ratio, but sufficient for our optimization\n",
    "    \"\"\"\n",
    "    volumes = np.empty_like(portfolio)\n",
    "    volumes[:] = portfolio\n",
    "    volumes[np.where(volumes == 0)] = np.nan\n",
    "    return np.nanmean(volumes*values)/np.sqrt(np.nanvar(volumes*values))"
   ]
  },
  {
   "cell_type": "markdown",
   "metadata": {},
   "source": [
    "#### Learning Algorithm Functions"
   ]
  },
  {
   "cell_type": "code",
   "execution_count": null,
   "metadata": {
    "collapsed": true
   },
   "outputs": [],
   "source": []
  },
  {
   "cell_type": "markdown",
   "metadata": {},
   "source": [
    "#### Load data & transform to data matrices that are of dim num_stocks X time"
   ]
  },
  {
   "cell_type": "code",
   "execution_count": 3,
   "metadata": {
    "collapsed": false
   },
   "outputs": [],
   "source": [
    "data = loadmat('portfolio.mat')\n",
    "keys = ['hi', 'lo', 'open', 'close', 'vol', 'stocks']\n",
    "\n",
    "all_data = {}\n",
    "all_data['hi'] = np.nan_to_num(data['train_hi'].T)\n",
    "all_data['lo'] = np.nan_to_num(data['train_lo'].T)\n",
    "all_data['open'] = np.nan_to_num(data['train_op'].T)\n",
    "all_data['close'] = np.nan_to_num(data['train_cl'].T)\n",
    "all_data['vol'] = np.nan_to_num(data['train_vol'].T)\n",
    "all_data['stocks'] = np.array([entry[0] for entry in data['train_stocks'][0]])\n",
    "NUM_STOCKS = all_data['stocks'].shape[0]\n",
    "TIME = all_data['open'].shape[1]"
   ]
  },
  {
   "cell_type": "code",
   "execution_count": 4,
   "metadata": {
    "collapsed": false
   },
   "outputs": [
    {
     "name": "stdout",
     "output_type": "stream",
     "text": [
      "[[  36.1    36.15   35.11 ...,   46.6    47.37   48.82]\n",
      " [  32.58   32.16   29.68 ...,   16.05   16.59   16.42]\n",
      " [  70.79   67.85   67.37 ...,  333.1   343.51  355.  ]\n",
      " ..., \n",
      " [  23.78   23.55   23.77 ...,   49.44   50.38   53.62]\n",
      " [  74.9    73.61   73.66 ...,   24.49   24.05   23.52]\n",
      " [  62.14   62.62   61.96 ...,   61.34   62.59   61.69]]\n",
      "[[  36.35   35.02   35.7  ...,   46.63   48.53   49.23]\n",
      " [  32.16   31.08   29.88 ...,   16.28   16.48   16.81]\n",
      " [  68.15   67.7    67.79 ...,  337.86  342.41  350.7 ]\n",
      " ..., \n",
      " [  23.66   23.66   23.89 ...,   49.93   50.58   52.64]\n",
      " [  73.27   73.52   73.74 ...,   23.8    23.42   23.61]\n",
      " [  62.45   62.06   62.03 ...,   63.14   61.37   62.07]]\n"
     ]
    }
   ],
   "source": [
    "print all_data['open']\n",
    "print all_data['close']"
   ]
  },
  {
   "cell_type": "markdown",
   "metadata": {},
   "source": [
    "#### Set amt of data you want for training, testing, and hold out\n",
    "\n",
    "Right now, we are partitioning the set of stocks"
   ]
  },
  {
   "cell_type": "code",
   "execution_count": 44,
   "metadata": {
    "collapsed": false
   },
   "outputs": [],
   "source": [
    "NUM_TRAIN = 300\n",
    "NUM_VALIDATION = 100\n",
    "NUM_TEST = NUM_STOCKS - NUM_TRAIN - NUM_VALIDATION"
   ]
  },
  {
   "cell_type": "markdown",
   "metadata": {},
   "source": [
    "#### Pull out your training, testing and validation sets"
   ]
  },
  {
   "cell_type": "code",
   "execution_count": 45,
   "metadata": {
    "collapsed": false
   },
   "outputs": [],
   "source": [
    "permuted_stocks = np.random.permutation(NUM_STOCKS)\n",
    "get_train = itemgetter(*permuted_stocks[:NUM_TRAIN])\n",
    "get_validation = itemgetter(*permuted_stocks[NUM_TRAIN:NUM_TRAIN+NUM_VALIDATION])\n",
    "get_test = itemgetter(*permuted_stocks[NUM_TRAIN+NUM_VALIDATION:NUM_STOCKS])\n",
    "\n",
    "train_data = sample_data(get_train, all_data, keys)\n",
    "validation_data = sample_data(get_validation, all_data, keys)\n",
    "test_data = sample_data(get_test, all_data, keys)"
   ]
  },
  {
   "cell_type": "markdown",
   "metadata": {
    "collapsed": true
   },
   "source": [
    "#### Run on training data"
   ]
  },
  {
   "cell_type": "markdown",
   "metadata": {},
   "source": [
    "Initialize"
   ]
  },
  {
   "cell_type": "code",
   "execution_count": 46,
   "metadata": {
    "collapsed": false
   },
   "outputs": [],
   "source": [
    "b_train = np.zeros([NUM_TRAIN, TIME])\n",
    "S = np.zeros(TIME)\n",
    "x_train = np.zeros([NUM_TRAIN, TIME])\n",
    "\n",
    "b_train[:,0] = 1./NUM_TRAIN * np.ones(NUM_TRAIN)\n",
    "S[0] = 1"
   ]
  },
  {
   "cell_type": "markdown",
   "metadata": {},
   "source": [
    "Update each time step"
   ]
  },
  {
   "cell_type": "code",
   "execution_count": 61,
   "metadata": {
    "collapsed": false
   },
   "outputs": [
    {
     "name": "stdout",
     "output_type": "stream",
     "text": [
      "inf\n"
     ]
    },
    {
     "name": "stderr",
     "output_type": "stream",
     "text": [
      "/usr/local/lib/python2.7/site-packages/ipykernel/__main__.py:3: RuntimeWarning: invalid value encountered in divide\n",
      "  app.launch_new_instance()\n",
      "/usr/local/lib/python2.7/site-packages/ipykernel/__main__.py:3: RuntimeWarning: divide by zero encountered in divide\n",
      "  app.launch_new_instance()\n",
      "/usr/local/lib/python2.7/site-packages/ipykernel/__main__.py:4: RuntimeWarning: overflow encountered in double_scalars\n"
     ]
    },
    {
     "data": {
      "text/plain": [
       "nan"
      ]
     },
     "execution_count": 61,
     "metadata": {},
     "output_type": "execute_result"
    }
   ],
   "source": [
    "for t in range(1,TIME):\n",
    "    b_train[:,t] = b_train[:,0] #some algo\n",
    "    x_train[:,t] = np.nan_to_num(train_data['close'][:,t]/train_data['close'][:,t-1])\n",
    "    S[t] = S[t-1]*np.dot(x_train[:,t], b_train[:,t])\n",
    "    \n",
    "    b_train[:,t] = (b_train[:,t]*train_data['close'][:,t])/(np.dot(b_train[:,t],train_data['close'][:,t]))\n",
    "    #update portfolio selection rules\n",
    "\n",
    "sharpe_ratio(S[t]*b_train[:,t],train_data['close'][:,t])"
   ]
  },
  {
   "cell_type": "code",
   "execution_count": null,
   "metadata": {
    "collapsed": false
   },
   "outputs": [],
   "source": []
  },
  {
   "cell_type": "code",
   "execution_count": null,
   "metadata": {
    "collapsed": true
   },
   "outputs": [],
   "source": []
  }
 ],
 "metadata": {
  "kernelspec": {
   "display_name": "Python 2",
   "language": "python",
   "name": "python2"
  },
  "language_info": {
   "codemirror_mode": {
    "name": "ipython",
    "version": 2
   },
   "file_extension": ".py",
   "mimetype": "text/x-python",
   "name": "python",
   "nbconvert_exporter": "python",
   "pygments_lexer": "ipython2",
   "version": "2.7.9"
  }
 },
 "nbformat": 4,
 "nbformat_minor": 0
}
