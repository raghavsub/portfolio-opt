{
 "cells": [
  {
   "cell_type": "code",
   "execution_count": 1,
   "metadata": {
    "collapsed": false
   },
   "outputs": [
    {
     "name": "stdout",
     "output_type": "stream",
     "text": [
      "['train_vol', 'train_stocks', '__header__', '__globals__', 'train_op', 'train_lo', 'train_cl', '__version__', 'train_hi']\n"
     ]
    }
   ],
   "source": [
    "import numpy as np\n",
    "from scipy.io import loadmat\n",
    "import matplotlib as plt\n",
    "data  = loadmat('portfolio.mat')\n",
    "print data.keys()"
   ]
  },
  {
   "cell_type": "code",
   "execution_count": 2,
   "metadata": {
    "collapsed": false
   },
   "outputs": [],
   "source": [
    "# the [i][j] index gives the value for the jth stock on the ith day\n",
    "train_data = {}\n",
    "train_data['hi'] = data['train_hi']\n",
    "train_data['lo'] = data['train_lo']\n",
    "train_data['open'] = data['train_op']\n",
    "train_data['close'] = data['train_cl']\n",
    "train_data['vol'] = data['train_vol']\n",
    "train_data['stocks'] = np.array([data['train_stocks'][0][i][0] for i in range(len(data['train_stocks'][0]))])"
   ]
  },
  {
   "cell_type": "code",
   "execution_count": null,
   "metadata": {
    "collapsed": true
   },
   "outputs": [],
   "source": []
  }
 ],
 "metadata": {
  "kernelspec": {
   "display_name": "Python 2",
   "language": "python",
   "name": "python2"
  },
  "language_info": {
   "codemirror_mode": {
    "name": "ipython",
    "version": 2
   },
   "file_extension": ".py",
   "mimetype": "text/x-python",
   "name": "python",
   "nbconvert_exporter": "python",
   "pygments_lexer": "ipython2",
   "version": "2.7.11"
  }
 },
 "nbformat": 4,
 "nbformat_minor": 0
}
