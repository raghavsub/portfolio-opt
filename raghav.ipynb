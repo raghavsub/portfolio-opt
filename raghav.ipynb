{
 "cells": [
  {
   "cell_type": "code",
   "execution_count": 1,
   "metadata": {
    "collapsed": false
   },
   "outputs": [],
   "source": [
    "import numpy as np\n",
    "from scipy.io import loadmat\n",
    "import matplotlib.pyplot as plt\n",
    "\n",
    "from operator import itemgetter\n",
    "\n",
    "from pykalman import KalmanFilter"
   ]
  },
  {
   "cell_type": "code",
   "execution_count": 2,
   "metadata": {
    "collapsed": true
   },
   "outputs": [],
   "source": [
    "%matplotlib inline"
   ]
  },
  {
   "cell_type": "markdown",
   "metadata": {},
   "source": [
    "# Setup"
   ]
  },
  {
   "cell_type": "markdown",
   "metadata": {},
   "source": [
    "#### Utility functions"
   ]
  },
  {
   "cell_type": "code",
   "execution_count": 3,
   "metadata": {
    "collapsed": true
   },
   "outputs": [],
   "source": [
    "def sample_data(getter, original_data, data_keys):\n",
    "    sampled_data = {}\n",
    "    for key in data_keys:\n",
    "        sampled_data[key] = np.array(getter(original_data[key]))\n",
    "    return sampled_data"
   ]
  },
  {
   "cell_type": "code",
   "execution_count": null,
   "metadata": {
    "collapsed": true
   },
   "outputs": [],
   "source": [
    "def sharpe_ratio(portfolio, values):\n",
    "    \"\"\"\n",
    "    Empirical Sharpe ratio.\n",
    "    \"\"\"\n",
    "    volumes = np.empty_like(portfolio)\n",
    "    volumes[:] = portfolio\n",
    "    volumes[np.where(volumes == 0)] = np.nan\n",
    "    return np.nanmean(volumes*values)/np.sqrt(np.nanvar(volumes*values))"
   ]
  },
  {
   "cell_type": "markdown",
   "metadata": {},
   "source": [
    "#### Load data & transform to data matrices with dims `[NUM_STOCKS, TIME]`"
   ]
  },
  {
   "cell_type": "code",
   "execution_count": 4,
   "metadata": {
    "collapsed": false
   },
   "outputs": [],
   "source": [
    "data = loadmat('portfolio.mat')\n",
    "keys = ['hi', 'lo', 'open', 'close', 'vol', 'stocks']\n",
    "\n",
    "all_data = {}\n",
    "all_data['hi'] = np.nan_to_num(data['train_hi'].T)\n",
    "all_data['lo'] = np.nan_to_num(data['train_lo'].T)\n",
    "all_data['open'] = np.nan_to_num(data['train_op'].T)\n",
    "all_data['close'] = np.nan_to_num(data['train_cl'].T)\n",
    "all_data['vol'] = np.nan_to_num(data['train_vol'].T)\n",
    "all_data['stocks'] = np.array([entry[0] for entry in data['train_stocks'][0]])\n",
    "NUM_STOCKS = all_data['stocks'].shape[0]\n",
    "TIME = all_data['open'].shape[1]"
   ]
  },
  {
   "cell_type": "markdown",
   "metadata": {
    "collapsed": true
   },
   "source": [
    "#### Split the dataset"
   ]
  },
  {
   "cell_type": "code",
   "execution_count": 5,
   "metadata": {
    "collapsed": true
   },
   "outputs": [],
   "source": [
    "NUM_TRAIN = 300\n",
    "NUM_VALIDATION = 100\n",
    "NUM_TEST = NUM_STOCKS - NUM_TRAIN - NUM_VALIDATION"
   ]
  },
  {
   "cell_type": "code",
   "execution_count": 6,
   "metadata": {
    "collapsed": true
   },
   "outputs": [],
   "source": [
    "permuted_stocks = np.random.permutation(NUM_STOCKS)\n",
    "get_train = itemgetter(*permuted_stocks[:NUM_TRAIN])\n",
    "get_validation = itemgetter(*permuted_stocks[NUM_TRAIN:NUM_TRAIN+NUM_VALIDATION])\n",
    "get_test = itemgetter(*permuted_stocks[NUM_TRAIN+NUM_VALIDATION:NUM_STOCKS])\n",
    "\n",
    "train_data = sample_data(get_train, all_data, keys)\n",
    "validation_data = sample_data(get_validation, all_data, keys)\n",
    "test_data = sample_data(get_test, all_data, keys)"
   ]
  },
  {
   "cell_type": "markdown",
   "metadata": {},
   "source": [
    "# Framework"
   ]
  },
  {
   "cell_type": "code",
   "execution_count": 6,
   "metadata": {
    "collapsed": false
   },
   "outputs": [],
   "source": [
    "def simulate(init_portfolio, strategy, dataset):\n",
    "    \n",
    "    # initialize\n",
    "    b_train = np.zeros([NUM_TRAIN, TIME+1])\n",
    "    x_train = np.zeros([NUM_TRAIN, TIME])\n",
    "    logS = np.zeros(TIME)\n",
    "    \n",
    "    x_train[:,0] = 1              # have no prior data\n",
    "    b_train[:,0] = init_portfolio # have no knowledge for first portfolio\n",
    "    logS[0] = 0                   # start at S=1\n",
    "    \n",
    "    # main loop\n",
    "    for t in range(1,TIME):\n",
    "        \n",
    "        zero_locs = np.where(dataset[:,t-1] == 0)[0]\n",
    "        nonzero_locs = np.where(dataset[:,t-1] != 0)[0]\n",
    "        \n",
    "        x_train[zero_locs,t] = 1\n",
    "        x_train[nonzero_locs,t] = np.nan_to_num(dataset[nonzero_locs,t]/dataset[nonzero_locs,t-1])\n",
    "        \n",
    "        b_train[:,t] = strategy(b_train, x_train, t)\n",
    "        \n",
    "        logS[t] = logS[t-1] + np.log(np.dot(x_train[:,t], b_train[:,t]))\n",
    "        \n",
    "    return b_train, x_train, logS"
   ]
  },
  {
   "cell_type": "code",
   "execution_count": 8,
   "metadata": {
    "collapsed": true
   },
   "outputs": [],
   "source": [
    "def strategy(portfolio, dataset, timestep):\n",
    "    pass"
   ]
  },
  {
   "cell_type": "markdown",
   "metadata": {},
   "source": [
    "# Baselines"
   ]
  },
  {
   "cell_type": "markdown",
   "metadata": {},
   "source": [
    "#### BAH"
   ]
  },
  {
   "cell_type": "code",
   "execution_count": 20,
   "metadata": {
    "collapsed": false
   },
   "outputs": [
    {
     "name": "stdout",
     "output_type": "stream",
     "text": [
      "1.42665913849\n"
     ]
    }
   ],
   "source": [
    "unif_init = 1./NUM_TRAIN * np.ones(NUM_TRAIN)\n",
    "\n",
    "def BAH(portfolio, dataset, timestep):\n",
    "    b = portfolio[:, timestep-1]\n",
    "    x = dataset[:, timestep-1]\n",
    "    return b*x/np.dot(b, x)\n",
    "\n",
    "b, x, logS = simulate(unif_init, BAH, train_data['close'])\n",
    "print np.exp(logS[-1])"
   ]
  },
  {
   "cell_type": "markdown",
   "metadata": {},
   "source": [
    "#### CRP"
   ]
  },
  {
   "cell_type": "code",
   "execution_count": 21,
   "metadata": {
    "collapsed": false
   },
   "outputs": [
    {
     "name": "stdout",
     "output_type": "stream",
     "text": [
      "1.66454376512\n"
     ]
    }
   ],
   "source": [
    "unif_init = 1./NUM_TRAIN * np.ones(NUM_TRAIN)\n",
    "\n",
    "def CRP(portfolio, dataset, timestep):\n",
    "    b = portfolio[:, timestep-1]\n",
    "    x = dataset[:, timestep-1]\n",
    "    return b\n",
    "\n",
    "b, x, logS = simulate(unif_init, CRP, train_data['close'])\n",
    "\n",
    "print np.exp(logS[-1]"
   ]
  },
  {
   "cell_type": "markdown",
   "metadata": {},
   "source": [
    "# Kalman Filter"
   ]
  },
  {
   "cell_type": "code",
   "execution_count": 8,
   "metadata": {
    "collapsed": false
   },
   "outputs": [],
   "source": [
    "def kf_simulate(kf, dataset):\n",
    "    \n",
    "    # initialize x_train\n",
    "    x_train = np.zeros([NUM_TRAIN, TIME])\n",
    "    x_train[:,0] = np.ones(NUM_TRAIN)\n",
    "    \n",
    "    # initialize kalman predictor\n",
    "    means = [np.ones(NUM_TRAIN)]\n",
    "    covariances = [np.eye(NUM_TRAIN)]\n",
    "    \n",
    "    # output\n",
    "    investments = [-1]\n",
    "    \n",
    "    for t in range(1,TIME):\n",
    "        \n",
    "        # update x_train\n",
    "        zero_locs = np.where(dataset[:,t-1] == 0)[0]\n",
    "        nonzero_locs = np.where(dataset[:,t-1] != 0)[0]\n",
    "        \n",
    "        x_train[zero_locs,t] = 1\n",
    "        x_train[nonzero_locs,t] = np.nan_to_num(dataset[nonzero_locs,t]/dataset[nonzero_locs,t-1])\n",
    "                                                  \n",
    "        # kalman prediction\n",
    "        next_mean, next_covariance = kf.filter_update(means[-1], covariances[-1], x_train[:,t])\n",
    "        means.append(next_mean)\n",
    "        covariances.append(next_covariance)\n",
    "        \n",
    "        investments.append(np.argmax(means[-1]))\n",
    "        \n",
    "    return investments\n",
    "\n",
    "kf = KalmanFilter(transition_matrices=np.eye(NUM_TRAIN),\n",
    "                  observation_matrices=np.eye(NUM_TRAIN),\n",
    "                  initial_state_mean=np.ones(NUM_TRAIN),\n",
    "                  initial_state_covariance=np.eye(NUM_TRAIN),\n",
    "                  observation_covariance=np.eye(NUM_TRAIN),\n",
    "                  transition_covariance=.01*np.eye(NUM_TRAIN))\n",
    "\n",
    "investments = kf_simulate(kf, train_data['close'])"
   ]
  }
 ],
 "metadata": {
  "kernelspec": {
   "display_name": "Python 2",
   "language": "python",
   "name": "python2"
  },
  "language_info": {
   "codemirror_mode": {
    "name": "ipython",
    "version": 2
   },
   "file_extension": ".py",
   "mimetype": "text/x-python",
   "name": "python",
   "nbconvert_exporter": "python",
   "pygments_lexer": "ipython2",
   "version": "2.7.11"
  }
 },
 "nbformat": 4,
 "nbformat_minor": 0
}
