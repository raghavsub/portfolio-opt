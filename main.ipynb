{
 "cells": [
  {
   "cell_type": "code",
   "execution_count": 1,
   "metadata": {
    "collapsed": false
   },
   "outputs": [],
   "source": [
    "import numpy as np\n",
    "from scipy.io import loadmat\n",
    "import matplotlib.pyplot as plt\n",
    "\n",
    "from operator import itemgetter"
   ]
  },
  {
   "cell_type": "markdown",
   "metadata": {},
   "source": [
    "# Setup"
   ]
  },
  {
   "cell_type": "markdown",
   "metadata": {},
   "source": [
    "#### Utility functions"
   ]
  },
  {
   "cell_type": "code",
   "execution_count": 2,
   "metadata": {
    "collapsed": true
   },
   "outputs": [],
   "source": [
    "def sample_data(getter, original_data, data_keys):\n",
    "    sampled_data = {}\n",
    "    for key in data_keys:\n",
    "        sampled_data[key] = np.array(getter(original_data[key]))\n",
    "    return sampled_data\n",
    "\n",
    "def sharpe_ratio(portfolio, values):\n",
    "    \"\"\"\n",
    "    Empirical Sharpe ratio.\n",
    "    \"\"\"\n",
    "    volumes = np.empty_like(portfolio)\n",
    "    volumes[:] = portfolio\n",
    "    volumes[np.where(volumes == 0)] = np.nan\n",
    "    return np.nanmean(volumes*values)/np.sqrt(np.nanvar(volumes*values))"
   ]
  },
  {
   "cell_type": "markdown",
   "metadata": {},
   "source": [
    "#### Load data & transform to data matrices with dims `[NUM_STOCKS, TIME]`"
   ]
  },
  {
   "cell_type": "code",
   "execution_count": 3,
   "metadata": {
    "collapsed": false
   },
   "outputs": [],
   "source": [
    "data = loadmat('portfolio.mat')\n",
    "keys = ['hi', 'lo', 'open', 'close', 'vol', 'stocks']\n",
    "\n",
    "all_data = {}\n",
    "all_data['hi'] = np.nan_to_num(data['train_hi'].T)\n",
    "all_data['lo'] = np.nan_to_num(data['train_lo'].T)\n",
    "all_data['open'] = np.nan_to_num(data['train_op'].T)\n",
    "all_data['close'] = np.nan_to_num(data['train_cl'].T)\n",
    "all_data['vol'] = np.nan_to_num(data['train_vol'].T)\n",
    "all_data['stocks'] = np.array([entry[0] for entry in data['train_stocks'][0]])\n",
    "NUM_STOCKS = all_data['stocks'].shape[0]\n",
    "TIME = all_data['open'].shape[1]"
   ]
  },
  {
   "cell_type": "markdown",
   "metadata": {
    "collapsed": true
   },
   "source": [
    "#### Split the dataset"
   ]
  },
  {
   "cell_type": "code",
   "execution_count": 4,
   "metadata": {
    "collapsed": true
   },
   "outputs": [],
   "source": [
    "NUM_TRAIN = 300\n",
    "NUM_VALIDATION = 100\n",
    "NUM_TEST = NUM_STOCKS - NUM_TRAIN - NUM_VALIDATION"
   ]
  },
  {
   "cell_type": "code",
   "execution_count": 5,
   "metadata": {
    "collapsed": true
   },
   "outputs": [],
   "source": [
    "permuted_stocks = np.random.permutation(NUM_STOCKS)\n",
    "get_train = itemgetter(*permuted_stocks[:NUM_TRAIN])\n",
    "get_validation = itemgetter(*permuted_stocks[NUM_TRAIN:NUM_TRAIN+NUM_VALIDATION])\n",
    "get_test = itemgetter(*permuted_stocks[NUM_TRAIN+NUM_VALIDATION:NUM_STOCKS])\n",
    "\n",
    "train_data = sample_data(get_train, all_data, keys)\n",
    "validation_data = sample_data(get_validation, all_data, keys)\n",
    "test_data = sample_data(get_test, all_data, keys)"
   ]
  },
  {
   "cell_type": "markdown",
   "metadata": {},
   "source": [
    "# Framework"
   ]
  },
  {
   "cell_type": "code",
   "execution_count": 6,
   "metadata": {
    "collapsed": true
   },
   "outputs": [],
   "source": [
    "def simulate(init_portfolio, strategy, dataset):\n",
    "    \n",
    "    # initialize\n",
    "    b_train = np.zeros([NUM_TRAIN, TIME+1])\n",
    "    x_train = np.zeros([NUM_TRAIN, TIME])\n",
    "    logS = np.zeros(TIME)\n",
    "    \n",
    "    b_train[:,0] = init_portfolio # have no knowledge for first portfolio\n",
    "    \n",
    "    # main loop\n",
    "    for t in range(1, TIME):\n",
    "        \n",
    "        zero_locs = np.where(dataset[:,t-1] == 0)[0]\n",
    "        nonzero_locs = np.where(dataset[:,t-1] != 0)[0]\n",
    "        \n",
    "        x_train[zero_locs,t] = 1\n",
    "        \n",
    "        x_train[nonzero_locs,t] = np.nan_to_num(dataset[nonzero_locs,t]/dataset[nonzero_locs,t-1])\n",
    "        \n",
    "        b_train[:,t] = strategy(b_train, x_train, t)\n",
    "        \n",
    "        logS[t] = logS[t-1] + np.log(np.dot(x_train[:,t], b_train[:,t]))\n",
    "        \n",
    "    return b_train, x_train, logS"
   ]
  },
  {
   "cell_type": "code",
   "execution_count": 7,
   "metadata": {
    "collapsed": true
   },
   "outputs": [],
   "source": [
    "def strategy(portfolio, dataset, timestep):\n",
    "    pass"
   ]
  }
 ],
 "metadata": {
  "kernelspec": {
   "display_name": "Python 2",
   "language": "python",
   "name": "python2"
  },
  "language_info": {
   "codemirror_mode": {
    "name": "ipython",
    "version": 2
   },
   "file_extension": ".py",
   "mimetype": "text/x-python",
   "name": "python",
   "nbconvert_exporter": "python",
   "pygments_lexer": "ipython2",
   "version": "2.7.11"
  }
 },
 "nbformat": 4,
 "nbformat_minor": 0
}
