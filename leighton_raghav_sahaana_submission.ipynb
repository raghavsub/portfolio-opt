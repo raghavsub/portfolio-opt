{
 "cells": [
  {
   "cell_type": "markdown",
   "metadata": {},
   "source": [
    "![windowitz](windowitz.png)"
   ]
  },
  {
   "cell_type": "markdown",
   "metadata": {
    "collapsed": true
   },
   "source": [
    "## EE378A Final Project, Spring 2016\n",
    "### Leighton Barnes, Raghav Subramaniam, Sahaana Suri"
   ]
  },
  {
   "cell_type": "code",
   "execution_count": null,
   "metadata": {
    "collapsed": true
   },
   "outputs": [],
   "source": [
    "import sys\n",
    "import os\n",
    "\n",
    "import numpy as np\n",
    "from scipy import io\n",
    "\n",
    "import matplotlib.pyplot as plt\n",
    "%matplotlib notebook\n",
    "\n",
    "import cvxpy"
   ]
  },
  {
   "cell_type": "markdown",
   "metadata": {},
   "source": [
    "## Get Test Data\n",
    "\n",
    "Note: `test.mat` should contain the test data (not supplied by us)."
   ]
  },
  {
   "cell_type": "code",
   "execution_count": null,
   "metadata": {
    "collapsed": true
   },
   "outputs": [],
   "source": [
    "mat_dict = io.loadmat('test.mat')\n",
    "\n",
    "test_cl = mat_dict['test_cl']\n",
    "test_hi = mat_dict['test_hi']\n",
    "test_lo = mat_dict['test_lo']\n",
    "test_op = mat_dict['test_op']\n",
    "test_vol = mat_dict['test_vol']\n",
    "numDays, numStocks = test_cl.shape\n",
    "\n",
    "all_stocks = []\n",
    "for i in range(numStocks):\n",
    "    all_stocks.append(np.array_str(mat_dict['test_stocks'][0][i])[3:-2])"
   ]
  },
  {
   "cell_type": "markdown",
   "metadata": {},
   "source": [
    "## Get Train Data\n",
    "\n",
    "Note: `portfolio.mat` contains the train data (supplied by us)."
   ]
  },
  {
   "cell_type": "code",
   "execution_count": null,
   "metadata": {
    "collapsed": true
   },
   "outputs": [],
   "source": [
    "mat_dict = io.loadmat('portfolio.mat')\n",
    "\n",
    "train_cl = mat_dict['train_cl']\n",
    "train_hi = mat_dict['train_hi']\n",
    "train_lo = mat_dict['train_lo']\n",
    "train_op = mat_dict['train_op']\n",
    "train_vol = mat_dict['train_vol']\n",
    "numTrain, _ = train_cl.shape\n",
    "\n",
    "# make data compatible with our algorithms\n",
    "train_cl = train_cl.T\n",
    "train_op = train_op.T"
   ]
  },
  {
   "cell_type": "markdown",
   "metadata": {},
   "source": [
    "## Choose Stocks"
   ]
  },
  {
   "cell_type": "code",
   "execution_count": null,
   "metadata": {
    "collapsed": false
   },
   "outputs": [],
   "source": [
    "fsdax = [455, 47, 322, 216, 190, 269, 106, 389]\n",
    "fscsx = [304, 197, 456, 279, 338, 112, 7, 227]\n",
    "fbsox = [456, 279, 118, 6, 227, 179, 178]\n",
    "fbiox = [84, 60, 192]\n",
    "the_sahaana_special = [467, 457, 469, 486, 283, 221, 256, 34, 227, 187]\n",
    "\n",
    "fundStocks = np.unique(fsdax + fscsx + fbsox + fbiox + the_sahaana_special)\n",
    "numFundStocks = len(fundStocks)\n",
    "\n",
    "print fundStocks"
   ]
  },
  {
   "cell_type": "markdown",
   "metadata": {},
   "source": [
    "## Windowitz Algorithm"
   ]
  },
  {
   "cell_type": "code",
   "execution_count": null,
   "metadata": {
    "collapsed": true
   },
   "outputs": [],
   "source": [
    "# params\n",
    "window_size = 250\n",
    "update_interval = 125\n",
    "mu = 1e-2\n",
    "eta = 30\n",
    "\n",
    "# build initial p matrix\n",
    "p_init = np.zeros([numFundStocks, numTrain])\n",
    "\n",
    "for curr_t in range(1, numTrain):\n",
    "        \n",
    "    nan_locs = np.where(np.logical_or(np.isnan(train_cl[fundStocks, curr_t-1]),\n",
    "               np.isnan(train_cl[fundStocks, curr_t])))[0]\n",
    "    non_nan_locs = np.where(np.logical_and(np.isfinite(train_cl[fundStocks, curr_t-1]),\n",
    "                   np.isfinite(train_cl[fundStocks, curr_t])))[0]\n",
    "        \n",
    "    p_init[nan_locs, curr_t] = 0\n",
    "    p_init[non_nan_locs, curr_t] = (train_cl[fundStocks,:][non_nan_locs, curr_t]\n",
    "        - train_cl[fundStocks,:][non_nan_locs, curr_t-1]) / train_cl[fundStocks,:][non_nan_locs, curr_t-1]\n",
    "    \n",
    "# matrices to cache test data\n",
    "cls = np.zeros([numStocks, numDays])\n",
    "ops = np.zeros([numStocks, numDays])\n",
    "\n",
    "def windowitz(t, portfolio_t, hi, lo, cl, op, stocks, vol):\n",
    "    \n",
    "    # save data\n",
    "    cls[:, t] = cl.T\n",
    "    ops[:, t] = op.T\n",
    "    \n",
    "    if t % update_interval is 0:\n",
    "    \n",
    "        # build p matrix\n",
    "        p = np.zeros([numFundStocks, t])\n",
    "        \n",
    "        for curr_t in range(1, t):\n",
    "            nan_locs = np.where(np.logical_or(np.isnan(cls[fundStocks, curr_t-1]),\n",
    "                       np.isnan(cls[fundStocks, curr_t])))[0]\n",
    "            #print nan_locs\n",
    "            non_nan_locs = np.where(np.logical_and(np.isfinite(cls[fundStocks, curr_t-1]),\n",
    "                           np.isfinite(cls[fundStocks, curr_t])))[0]\n",
    "        \n",
    "            p[nan_locs, curr_t] = 0\n",
    "            p[non_nan_locs, curr_t] = (cls[fundStocks,:][non_nan_locs, curr_t]\n",
    "                - cls[fundStocks,:][non_nan_locs, curr_t-1]) / cls[fundStocks,:][non_nan_locs, curr_t-1]\n",
    "        \n",
    "        # compute statistics\n",
    "        pbar = np.mean(np.hstack([p_init, p])[:, t+numTrain-window_size:t+numTrain-1], axis=1)\n",
    "        sigma = np.cov(np.hstack([p_init, p])[:, t+numTrain-window_size:t+numTrain-1])\n",
    "    \n",
    "        # set up and solve markowitz problem\n",
    "        b_opt = cvxpy.Variable(numFundStocks)\n",
    "        objective = cvxpy.Minimize(-pbar*b_opt + mu*cvxpy.quad_form(b_opt, sigma)\n",
    "                    + eta*cvxpy.pnorm(b_opt - portfolio_t[fundStocks], 2))\n",
    "        constraints = [cvxpy.sum_entries(b_opt) >= 0.1, cvxpy.sum_entries(b_opt) <= 1.0]\n",
    "        problem = cvxpy.Problem(objective, constraints)\n",
    "        problem.solve(verbose=False, solver='ECOS')\n",
    "                           \n",
    "        b_opt = b_opt.value\n",
    "        \n",
    "        portfolio = np.zeros(numStocks)\n",
    "        portfolio[fundStocks] = b_opt\n",
    "        \n",
    "        portfolio /= np.sum(portfolio)\n",
    "    \n",
    "        return portfolio, np.zeros(numStocks, dtype=bool)\n",
    "    \n",
    "    else:\n",
    "        \n",
    "        return portfolio_t, np.ones(numStocks, dtype=bool)"
   ]
  },
  {
   "cell_type": "markdown",
   "metadata": {},
   "source": [
    "## Framework Code"
   ]
  },
  {
   "cell_type": "code",
   "execution_count": null,
   "metadata": {
    "collapsed": true
   },
   "outputs": [],
   "source": [
    "def rebalance(value_vec, value_realizable, portfolio_dst, cost_rate):\n",
    "    \"\"\" % This function simulates the process of rebalancing. The key difficulty \n",
    "    % here is to compute the transaction cost, i.e., to solve the equation\n",
    "    %\n",
    "    % sum( cost_rate * abs( portfolio_dst .* (value_realizable - C) -\n",
    "    % value_vec) ) = C\n",
    "    % \n",
    "    % where C is the total transcation cost. We use the Banach contraction \n",
    "    % theorem to solve this equation, with convergence rate cost_rate^t for \n",
    "    % t-th iteration. \n",
    "\n",
    "    % Input: \n",
    "    %%% value_vec: current values of each active stock\n",
    "    %%% value_realizable: total cash realizable value\n",
    "    %%% portfolio_dst: the desired portfolio after rebalancing\n",
    "    %%% cost_rate: ratio of transactions cost (0.0005 in our case)\n",
    "\n",
    "    % Output:\n",
    "    %%% new_value_vec: the value vector after rebalancing\n",
    "    %%% trans_cost: the total transaction cost\"\"\"\n",
    "    \n",
    "    iter_num = 7\n",
    "    trans_cost = 0\n",
    "    for iter in range(iter_num):\n",
    "        trans_cost = np.sum(cost_rate * np.abs(portfolio_dst * \\\n",
    "                        (value_realizable-trans_cost)-value_vec))\n",
    "        \n",
    "    new_value_vec = portfolio_dst * (value_realizable - trans_cost)\n",
    "    return new_value_vec, trans_cost"
   ]
  },
  {
   "cell_type": "code",
   "execution_count": null,
   "metadata": {
    "collapsed": false
   },
   "outputs": [],
   "source": [
    "value_op_seq = np.zeros(numDays) # total value before open of each day\n",
    "value_cl_seq = np.zeros(numDays) # total value before close of each day \n",
    "portfolio_seq = np.zeros((numStocks, numDays)) # portfolio before open of each day\n",
    "last_close_price = np.NaN * np.ones(numStocks)\n",
    "print numDays, numStocks"
   ]
  },
  {
   "cell_type": "code",
   "execution_count": null,
   "metadata": {
    "collapsed": true
   },
   "outputs": [],
   "source": [
    "# Initialization\n",
    "op = test_op[0,:]\n",
    "cl = np.NaN * np.ones(numStocks)\n",
    "hi = np.NaN * np.ones(numStocks)\n",
    "lo = np.NaN * np.ones(numStocks)\n",
    "vol = np.NaN * np.ones(numStocks)\n",
    "value_op_seq[0] = 1 # initially we have one unit of cash"
   ]
  },
  {
   "cell_type": "code",
   "execution_count": null,
   "metadata": {
    "collapsed": false
   },
   "outputs": [],
   "source": [
    "for t in range(numDays):\n",
    "    print t,\n",
    "    \n",
    "    # At the beginning of day t, we use all information up to the open \n",
    "    # price of day t to determine the capital allocation at the end of \n",
    "    # day t.\n",
    "    \n",
    "    # Your function should be placed here. Note that the input vector may\n",
    "    # contain NaNs (at Day 1, or for some inactive stocks). \n",
    "    new_portfolio, hold_flag = windowitz(t, portfolio_seq[:,t], hi, lo, cl, op, all_stocks, vol)\n",
    "    \n",
    "    # Check whether your output is valid\n",
    "    isActive = np.isfinite(op)\n",
    "    noHold = np.logical_and(isActive, np.logical_not(hold_flag))\n",
    "    if np.sum(new_portfolio[noHold]) > 1 + 1e-8:\n",
    "        sys.stderr.write('The output portfolio is not valid! {}'.format(np.sum(new_portfolio[noHold])))\n",
    "        \n",
    "    # The value of our portfolio at the end of Day t before paying transaction costs\n",
    "    cl = test_cl[t,:]\n",
    "    value_vec = value_op_seq[t] * portfolio_seq[:,t]\n",
    "    growth = cl[isActive] / last_close_price[isActive]-1\n",
    "    growth[np.isnan(growth)] = 0\n",
    "    revenue_vec = value_vec[isActive] * growth\n",
    "    value_vec[isActive] = value_vec[isActive] + revenue_vec\n",
    "    value_cl_seq[t] = value_op_seq[t] + np.sum(revenue_vec)\n",
    "        \n",
    "\n",
    "    # At the end of Day t, we use the close price of day t to adjust our \n",
    "    # portfolio to the desired percentage.\n",
    "    if t <= numDays-2:\n",
    "        nonActive = np.logical_not(isActive)\n",
    "        value_realizable = value_cl_seq[t] - np.sum(value_vec[nonActive])\n",
    "        new_value_vec, trans_cost = rebalance(value_vec[isActive], value_realizable, \\\n",
    "                                              new_portfolio[isActive], 0.0005)\n",
    "        value_op_seq[t+1] = value_cl_seq[t] - trans_cost\n",
    "        value_vec[isActive] = new_value_vec\n",
    "        portfolio_seq[:,t+1] = value_vec / value_op_seq[t+1]\n",
    "        \n",
    "    last_close_price[isActive] = cl[isActive]\n",
    "    \n",
    "    # Update information\n",
    "    if t <= numDays-2:\n",
    "        op = test_op[t+1,:]\n",
    "        hi = test_op[t,:]\n",
    "        lo = test_lo[t,:]\n",
    "        vol = test_vol[t,:]"
   ]
  },
  {
   "cell_type": "markdown",
   "metadata": {},
   "source": [
    "## Results"
   ]
  },
  {
   "cell_type": "code",
   "execution_count": null,
   "metadata": {
    "collapsed": false
   },
   "outputs": [],
   "source": [
    "fig = plt.figure()\n",
    "plt.plot(value_op_seq)\n",
    "plt.title('Portfolio Return over Time')\n",
    "plt.ylabel('Return')\n",
    "plt.xlabel('Time')\n",
    "return_seq = np.log(value_op_seq[1:] / value_op_seq[:-1])\n",
    "annual_return = 252 * np.mean(return_seq)\n",
    "sharpe = np.sqrt(252) * np.mean(return_seq) / np.std(return_seq)\n",
    "print annual_return, sharpe"
   ]
  }
 ],
 "metadata": {
  "kernelspec": {
   "display_name": "Python 2",
   "language": "python",
   "name": "python2"
  },
  "language_info": {
   "codemirror_mode": {
    "name": "ipython",
    "version": 2
   },
   "file_extension": ".py",
   "mimetype": "text/x-python",
   "name": "python",
   "nbconvert_exporter": "python",
   "pygments_lexer": "ipython2",
   "version": "2.7.11"
  }
 },
 "nbformat": 4,
 "nbformat_minor": 0
}
