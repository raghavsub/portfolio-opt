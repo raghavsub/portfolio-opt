{
 "cells": [
  {
   "cell_type": "code",
   "execution_count": 46,
   "metadata": {
    "collapsed": true
   },
   "outputs": [],
   "source": [
    "import sys\n",
    "import os\n",
    "\n",
    "import numpy as np\n",
    "from scipy import io\n",
    "\n",
    "import matplotlib.pyplot as plt\n",
    "%matplotlib inline\n",
    "\n",
    "import cvxpy"
   ]
  },
  {
   "cell_type": "code",
   "execution_count": 47,
   "metadata": {
    "collapsed": false,
    "scrolled": true
   },
   "outputs": [],
   "source": [
    "numTrain = 500\n",
    "\n",
    "mat_dict = io.loadmat('portfolio.mat')\n",
    "\n",
    "train_cl = mat_dict['train_cl'][:numTrain]\n",
    "train_hi = mat_dict['train_hi'][:numTrain]\n",
    "train_lo = mat_dict['train_lo'][:numTrain]\n",
    "train_op = mat_dict['train_op'][:numTrain]\n",
    "train_vol = mat_dict['train_vol'][:numTrain]\n",
    "train_cl = train_cl.T\n",
    "train_op = train_op.T\n",
    "\n",
    "test_cl = mat_dict['train_cl'][numTrain:]\n",
    "test_hi = mat_dict['train_hi'][numTrain:]\n",
    "test_lo = mat_dict['train_lo'][numTrain:]\n",
    "test_op = mat_dict['train_op'][numTrain:]\n",
    "test_vol = mat_dict['train_vol'][numTrain:]\n",
    "numDays, numStocks = test_cl.shape\n",
    "\n",
    "all_stocks = []\n",
    "for i in range(numStocks):\n",
    "    all_stocks.append(np.array_str(mat_dict['train_stocks'][0][i])[3:-2])"
   ]
  },
  {
   "cell_type": "code",
   "execution_count": 48,
   "metadata": {
    "collapsed": false
   },
   "outputs": [],
   "source": [
    "def uniform_rebalance(t, portfolio_t, hi, lo, cl, op, stocks, vol):\n",
    "    \"\"\"% Input: \n",
    "    %%% t: we are at Day t\n",
    "    %%% portfolio_t: current portfolio before open of Day t\n",
    "    %%% hi: highest prices at Day t-1\n",
    "    %%% lo: lowest prices at Day t-1\n",
    "    %%% cl: close prices at Day t-1\n",
    "    %%% op: open prices at Day t\n",
    "    %%% stocks: names of all stocks\n",
    "    %%% vol: volumes at Day t-1\n",
    "\n",
    "    % Output: \n",
    "    %%% portfolio: a column vector, each entry represents the portion of \n",
    "    %%%            the value of the corresponding stock over the total cash \n",
    "    %%%            realizable value [as a result, the value of inactive stocks \n",
    "    %%%            i.e., with open price NaN, cannot be added into the total\n",
    "    %%%            cash realizable value]. Hence, your output must satisfy\n",
    "    %%%            sum(portfolio(isfinite(op))) < 1, and the rest is the \n",
    "    %%%            portion of cash realizable value you hold in cash. \n",
    "    %%% hold_flag: a binary vector representing whether you would like to hold\n",
    "    %%%            (with value 1) each stock or you choose to rebalance it\n",
    "    %%%            (with value 0). \"\"\"\n",
    "    \n",
    "    numStocks = len(stocks)\n",
    "    portfolio = np.zeros(numStocks)\n",
    "    numActiveStock = np.sum(np.isfinite(op))\n",
    "    portfolio[np.isfinite(op)] = 1.0/numActiveStock\n",
    "        \n",
    "    if np.mod(t,2) == 1:\n",
    "        hold_flag = np.zeros(numStocks,dtype=bool)\n",
    "    else:\n",
    "        hold_flag = np.ones(numStocks,dtype=bool)      \n",
    "    return portfolio, hold_flag"
   ]
  },
  {
   "cell_type": "code",
   "execution_count": 49,
   "metadata": {
    "collapsed": false
   },
   "outputs": [],
   "source": [
    "# params\n",
    "window_size = 450\n",
    "mu = 1e-1\n",
    "eta = 1e-1\n",
    "\n",
    "# initialize initial p matrix\n",
    "p_init = np.zeros([numStocks, numTrain])\n",
    "\n",
    "# build initial p matrix\n",
    "for curr_t in range(1, numTrain):\n",
    "        \n",
    "    nan_locs = np.where(np.logical_or(np.isnan(train_cl[:, curr_t-1]),\n",
    "               np.isnan(train_cl[:, curr_t])))[0]\n",
    "    non_nan_locs = np.where(np.logical_and(np.isfinite(train_cl[:, curr_t-1]),\n",
    "                   np.isfinite(train_cl[:, curr_t])))[0]\n",
    "        \n",
    "    p_init[nan_locs, curr_t] = 0\n",
    "    p_init[non_nan_locs, curr_t] = (train_cl[non_nan_locs, curr_t]\n",
    "        - train_cl[non_nan_locs, curr_t-1]) / train_cl[non_nan_locs, curr_t-1]\n",
    "    \n",
    "# matrices to save data\n",
    "cls = np.zeros([numStocks, numDays])\n",
    "ops = np.zeros([numStocks, numDays])\n",
    "\n",
    "def windowitz(t, portfolio_t, hi, lo, cl, op, stocks, vol):\n",
    "    \n",
    "    # save data\n",
    "    cls[:, t] = cl.T\n",
    "    ops[:, t] = op.T\n",
    "    \n",
    "    if t % 90 is 0:\n",
    "    \n",
    "        # initialize p matrix\n",
    "        p = np.zeros([numStocks, t])\n",
    "    \n",
    "        # build p matrix\n",
    "        for curr_t in range(1, t):\n",
    "            nan_locs = np.where(np.logical_or(np.isnan(cls[:, curr_t-1]),\n",
    "                       np.isnan(cls[:, curr_t])))[0]\n",
    "            non_nan_locs = np.where(np.logical_and(np.isfinite(cls[:, curr_t-1]),\n",
    "                           np.isfinite(cls[:, curr_t])))[0]\n",
    "        \n",
    "            p[nan_locs, curr_t] = 0\n",
    "            p[non_nan_locs, curr_t] = (cls[non_nan_locs, curr_t]\n",
    "                - cls[non_nan_locs, curr_t-1]) / cls[non_nan_locs, curr_t-1]\n",
    "        \n",
    "        # compute statistics\n",
    "        pbar = np.mean(np.hstack([p_init, p])[:, t+numTrain-window_size:t+numTrain-1], axis=1)\n",
    "        sigma = np.cov(np.hstack([p_init, p])[:, t+numTrain-window_size:t+numTrain-1])\n",
    "    \n",
    "        # set up and solve markowitz problem\n",
    "        b_opt = cvxpy.Variable(numStocks)\n",
    "        objective = cvxpy.Minimize(-pbar*b_opt + mu*cvxpy.quad_form(b_opt, sigma + np.eye(numStocks))\n",
    "                    + eta*cvxpy.pnorm(b_opt - portfolio_t, 2))\n",
    "        constraints = [cvxpy.sum_entries(b_opt) == 1., b_opt >= -0.5, b_opt <= 0.5]\n",
    "        problem = cvxpy.Problem(objective, constraints)\n",
    "        problem.solve(verbose=False, solver='SCS')\n",
    "                           \n",
    "        b_opt = b_opt.value\n",
    "    \n",
    "        portfolio = np.zeros(numStocks)\n",
    "        portfolio[np.isfinite(op)] = b_opt[np.isfinite(op)]\n",
    "        portfolio /= np.sum(portfolio)\n",
    "    \n",
    "        return portfolio, np.zeros(numStocks, dtype=bool)\n",
    "    \n",
    "    else:\n",
    "        return portfolio_t, np.ones(numStocks, dtype=bool)"
   ]
  },
  {
   "cell_type": "code",
   "execution_count": 50,
   "metadata": {
    "collapsed": true
   },
   "outputs": [],
   "source": [
    "def rebalance(value_vec, value_realizable, portfolio_dst, cost_rate):\n",
    "    \"\"\" % This function simulates the process of rebalancing. The key difficulty \n",
    "    % here is to compute the transaction cost, i.e., to solve the equation\n",
    "    %\n",
    "    % sum( cost_rate * abs( portfolio_dst .* (value_realizable - C) -\n",
    "    % value_vec) ) = C\n",
    "    % \n",
    "    % where C is the total transcation cost. We use the Banach contraction \n",
    "    % theorem to solve this equation, with convergence rate cost_rate^t for \n",
    "    % t-th iteration. \n",
    "\n",
    "    % Input: \n",
    "    %%% value_vec: current values of each active stock\n",
    "    %%% value_realizable: total cash realizable value\n",
    "    %%% portfolio_dst: the desired portfolio after rebalancing\n",
    "    %%% cost_rate: ratio of transactions cost (0.0005 in our case)\n",
    "\n",
    "    % Output:\n",
    "    %%% new_value_vec: the value vector after rebalancing\n",
    "    %%% trans_cost: the total transaction cost\"\"\"\n",
    "    \n",
    "    iter_num = 7\n",
    "    trans_cost = 0\n",
    "    for iter in range(iter_num):\n",
    "        trans_cost = np.sum(cost_rate * np.abs(portfolio_dst * \\\n",
    "                        (value_realizable-trans_cost)-value_vec))\n",
    "        \n",
    "    new_value_vec = portfolio_dst * (value_realizable - trans_cost)\n",
    "    return new_value_vec, trans_cost"
   ]
  },
  {
   "cell_type": "code",
   "execution_count": 51,
   "metadata": {
    "collapsed": false,
    "scrolled": true
   },
   "outputs": [
    {
     "name": "stdout",
     "output_type": "stream",
     "text": [
      "747 497\n"
     ]
    }
   ],
   "source": [
    "value_op_seq = np.zeros(numDays) # total value before open of each day\n",
    "value_cl_seq = np.zeros(numDays) # total value before close of each day \n",
    "portfolio_seq = np.zeros((numStocks, numDays)) # portfolio before open of each day\n",
    "last_close_price = np.NaN * np.ones(numStocks)\n",
    "print numDays, numStocks"
   ]
  },
  {
   "cell_type": "code",
   "execution_count": 52,
   "metadata": {
    "collapsed": false
   },
   "outputs": [],
   "source": [
    "# Initialization\n",
    "op = test_op[0,:]\n",
    "cl = np.NaN * np.ones(numStocks)\n",
    "hi = np.NaN * np.ones(numStocks)\n",
    "lo = np.NaN * np.ones(numStocks)\n",
    "vol = np.NaN * np.ones(numStocks)\n",
    "value_op_seq[0] = 1 # initially we hvae one unit of cash"
   ]
  },
  {
   "cell_type": "code",
   "execution_count": 53,
   "metadata": {
    "collapsed": false
   },
   "outputs": [
    {
     "name": "stdout",
     "output_type": "stream",
     "text": [
      "0"
     ]
    },
    {
     "name": "stderr",
     "output_type": "stream",
     "text": [
      "/Users/rs/Dropbox/Workspace/portfolio-opt/venv/lib/python2.7/site-packages/ipykernel/__main__.py:62: DeprecationWarning: assignment will raise an error in the future, most likely because your index result shape does not match the value array shape. You can use `arr.flat[index] = values` to keep the old behaviour.\n"
     ]
    },
    {
     "name": "stdout",
     "output_type": "stream",
     "text": [
      " 1 2 3 4 5 6 7 8 9 10 11 12 13 14 15 16 17 18 19 20 21 22 23 24 25 26 27 28 29 30 31 32 33 34 35 36 37 38 39 40 41 42 43 44 45 46 47 48 49 50 51 52 53 54 55 56 57 58 59 60 61 62 63 64 65 66 67 68 69 70 71 72 73 74 75 76 77 78 79 80 81 82 83 84 85 86 87 88 89 90 91 92 93 94 95 96 97 98 99 100 101 102 103 104 105 106 107 108 109 110 111 112 113 114 115 116 117 118 119 120 121 122 123 124 125 126 127 128 129 130 131 132 133 134 135 136 137 138 139 140 141 142 143 144 145 146 147 148 149 150 151 152 153 154 155 156 157 158 159 160 161 162 163 164 165 166 167 168 169 170 171 172 173 174 175 176 177 178 179 180 181 182 183 184 185 186 187 188 189 190 191 192 193 194 195 196 197 198 199 200 201 202 203 204 205 206 207 208 209 210 211 212 213 214 215 216 217 218 219 220 221 222 223 224 225 226 227 228 229 230 231 232 233 234 235 236 237 238 239 240 241 242 243 244 245 246 247 248 249 250 251 252 253 254 255 256 257 258 259 260 261 262 263 264 265 266 267 268 269 270 271 272 273 274 275 276 277 278 279 280 281 282 283 284 285 286 287 288 289 290 291 292 293 294 295 296 297 298 299 300 301 302 303 304 305 306 307 308 309 310 311 312 313 314 315 316 317 318 319 320 321 322 323 324 325 326 327 328 329 330 331 332 333 334 335 336 337 338 339 340 341 342 343 344 345 346 347 348 349 350 351 352 353 354 355 356 357 358 359 360 361 362 363 364 365 366 367 368 369 370 371 372 373 374 375 376 377 378 379 380 381 382 383 384 385 386 387 388 389 390 391 392 393 394 395 396 397 398 399 400 401 402 403 404 405 406 407 408 409 410 411 412 413 414 415 416 417 418 419 420 421 422 423 424 425 426 427 428 429 430 431 432 433 434 435 436 437 438 439 440 441 442 443 444 445 446 447 448 449 450 451 452 453 454 455 456 457 458 459 460 461 462 463 464 465 466 467 468 469 470 471 472 473 474 475 476 477 478 479 480 481 482 483 484 485 486 487 488 489 490 491 492 493 494 495 496 497 498 499 500 501 502 503 504 505 506 507 508 509 510 511 512 513 514 515 516 517 518 519 520 521 522 523 524 525 526 527 528 529 530 531 532 533 534 535 536 537 538 539 540 541 542 543 544 545 546 547 548 549 550 551 552 553 554 555 556 557 558 559 560 561 562 563 564 565 566 567 568 569 570 571 572 573 574 575 576 577 578 579 580 581 582 583 584 585 586 587 588 589 590 591 592 593 594 595 596 597 598 599 600 601 602 603 604 605 606 607 608 609 610 611 612 613 614 615 616 617 618 619 620 621 622 623 624 625 626 627 628 629 630 631 632 633 634 635 636 637 638 639 640 641 642 643 644 645 646 647 648 649 650 651 652 653 654 655 656 657 658 659 660 661 662 663 664 665 666 667 668 669 670 671 672 673 674 675 676 677 678 679 680 681 682 683 684 685 686 687 688 689 690 691 692 693 694 695 696 697 698 699 700 701 702 703 704 705 706 707 708 709 710 711 712 713 714 715 716 717 718 719 720 721 722 723 724 725 726 727 728 729 730 731 732 733 734 735 736 737 738 739 740 741 742 743 744 745 746\n"
     ]
    }
   ],
   "source": [
    "for t in range(numDays):\n",
    "    print t,\n",
    "    \n",
    "    # At the beginning of day t, we use all information up to the open \n",
    "    # price of day t to determine the capital allocation at the end of \n",
    "    # day t.\n",
    "    \n",
    "    # Your function should be placed here. Note that the input vector may\n",
    "    # contain NaNs (at Day 1, or for some inactive stocks). \n",
    "    new_portfolio, hold_flag = windowitz(t, portfolio_seq[:,t], hi, lo, cl, op, all_stocks, vol)\n",
    "    \n",
    "    # Check whether your output is valid\n",
    "    isActive = np.isfinite(op)\n",
    "    noHold = np.logical_and(isActive, np.logical_not(hold_flag))\n",
    "    if np.sum(new_portfolio[noHold]) > 1 + 1e-8:\n",
    "        sys.stderr.write('The output portfolio is not valid!')\n",
    "        \n",
    "    # The value of our portfolio at the end of Day t before paying transaction costs\n",
    "    cl = test_cl[t,:]\n",
    "    value_vec = value_op_seq[t] * portfolio_seq[:,t]\n",
    "    growth = cl[isActive] / last_close_price[isActive]-1\n",
    "    growth[np.isnan(growth)] = 0\n",
    "    revenue_vec = value_vec[isActive] * growth\n",
    "    value_vec[isActive] = value_vec[isActive] + revenue_vec\n",
    "    value_cl_seq[t] = value_op_seq[t] + np.sum(revenue_vec)\n",
    "        \n",
    "\n",
    "    # At the end of Day t, we use the close price of day t to adjust our \n",
    "    # portfolio to the desired percentage.\n",
    "    if t <= numDays-2:\n",
    "        nonActive = np.logical_not(isActive)\n",
    "        value_realizable = value_cl_seq[t] - np.sum(value_vec[nonActive])\n",
    "        new_value_vec, trans_cost = rebalance(value_vec[isActive], value_realizable, \\\n",
    "                                              new_portfolio[isActive], 0.0005)\n",
    "        value_op_seq[t+1] = value_cl_seq[t] - trans_cost\n",
    "        value_vec[isActive] = new_value_vec\n",
    "        portfolio_seq[:,t+1] = value_vec / value_op_seq[t+1]\n",
    "        \n",
    "    last_close_price[isActive] = cl[isActive]\n",
    "    \n",
    "    # Update information\n",
    "    if t <= numDays-2:\n",
    "        op = test_op[t+1,:]\n",
    "        hi = test_op[t,:]\n",
    "        lo = test_lo[t,:]\n",
    "        vol = test_vol[t,:]"
   ]
  },
  {
   "cell_type": "code",
   "execution_count": 54,
   "metadata": {
    "collapsed": false
   },
   "outputs": [
    {
     "name": "stdout",
     "output_type": "stream",
     "text": [
      "0.0981580741602 0.288844707045\n"
     ]
    },
    {
     "data": {
      "image/png": "[encoded data removed]",
      "text/plain": [
       "<matplotlib.figure.Figure at 0x106b515d0>"
      ]
     },
     "metadata": {},
     "output_type": "display_data"
    }
   ],
   "source": [
    "plt.plot(value_op_seq)\n",
    "return_seq = np.log(value_op_seq[1:] / value_op_seq[:-1])\n",
    "annual_return = 252 * np.mean(return_seq)\n",
    "sharpe = np.sqrt(252) * np.mean(return_seq) / np.std(return_seq)\n",
    "print annual_return, sharpe"
   ]
  },
  {
   "cell_type": "code",
   "execution_count": null,
   "metadata": {
    "collapsed": true
   },
   "outputs": [],
   "source": []
  }
 ],
 "metadata": {
  "kernelspec": {
   "display_name": "Python 2",
   "language": "python",
   "name": "python2"
  },
  "language_info": {
   "codemirror_mode": {
    "name": "ipython",
    "version": 2
   },
   "file_extension": ".py",
   "mimetype": "text/x-python",
   "name": "python",
   "nbconvert_exporter": "python",
   "pygments_lexer": "ipython2",
   "version": "2.7.11"
  }
 },
 "nbformat": 4,
 "nbformat_minor": 0
}
